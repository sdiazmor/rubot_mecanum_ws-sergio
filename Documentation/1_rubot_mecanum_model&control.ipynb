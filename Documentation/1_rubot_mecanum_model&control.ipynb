{
 "cells": [
  {
   "cell_type": "markdown",
   "metadata": {},
   "source": [
    "# 1. rubot Mecanum model description"
   ]
  },
  {
   "cell_type": "markdown",
   "metadata": {},
   "source": [
    "Diferent models could be obtained:\n",
    "- Commercial robot nexus robot\n",
    "- Costomized nexus robot\n",
    "- Custom designed model \n",
    "\n",
    "For a custom model created in SolidWorks, there is an add-in that allows the conversion of SW Parts and Assemblies into a URDF file. The exporter will create a ROS-like package that contains a directory for meshes, textures and robots (urdf files).: http://wiki.ros.org/sw_urdf_exporter\n",
    "\n",
    "\n"
   ]
  },
  {
   "cell_type": "markdown",
   "metadata": {},
   "source": [
    "## 1.1. Commercial nexus robot\n",
    "\n",
    "This commercial robot can be found in: https://www.nexusrobot.com/product/4wd-mecanum-wheel-mobile-arduino-robotics-car-10011.html\n",
    "\n",
    "There is already a URDF model extracted from: https://github.com/RBinsonB/nexus_4wd_mecanum_simulator\n",
    "\n",
    "We have taken the nexus_4wd_mecanum_description package from the RBinsonB repository\n",
    "\n",
    "Launch the nexus_4wd_mecanum_description.launch file has to include the \"joint_state_publisher\" node. This correction has to be done:\n"
   ]
  },
  {
   "cell_type": "code",
   "execution_count": null,
   "metadata": {},
   "outputs": [],
   "source": [
    "<?xml version=\"1.0\"?>\n",
    "<launch>\n",
    "\t<param name=\"robot_description\" command=\"$(find xacro)/xacro --inorder $(find nexus_4wd_mecanum_description)/urdf/nexus_4wd_mecanum.xacro\" />\n",
    "    <node name=\"joint_state_publisher\" pkg=\"joint_state_publisher\" type=\"joint_state_publisher\" />\n",
    "    <node name=\"robot_state_publisher\" pkg=\"robot_state_publisher\" type=\"robot_state_publisher\" />\n",
    "</launch>\n"
   ]
  },
  {
   "cell_type": "markdown",
   "metadata": {},
   "source": [
    "Run the simulation for one nexus robot by using the following command line:"
   ]
  },
  {
   "cell_type": "code",
   "execution_count": null,
   "metadata": {},
   "outputs": [],
   "source": [
    "roslaunch nexus_4wd_mecanum_description nexus_4wd_mecanum_rviz.launch "
   ]
  },
  {
   "cell_type": "markdown",
   "metadata": {},
   "source": [
    "![Getting Started](./Images/1_nexus_4wd.png)"
   ]
  },
  {
   "cell_type": "markdown",
   "metadata": {},
   "source": [
    "## 1.2. Costomized nexus robot\n",
    "\n",
    "We have created a new \"nexus_mecanum\" package in robot description folder.\n",
    "In the URDF file we have added:\n",
    "- Camera sensor\n",
    "- LIDAR sensor\n",
    "- Kinematic driver for Holonomic movement\n"
   ]
  },
  {
   "cell_type": "markdown",
   "metadata": {},
   "source": [
    "### Camera sensor\n",
    "\n",
    "This sensor is integrated as a link and fixed joint for visual purposes:"
   ]
  },
  {
   "cell_type": "code",
   "execution_count": null,
   "metadata": {},
   "outputs": [],
   "source": [
    "  <!-- 2D Camera as a mesh of actual PiCamera -->\n",
    "  <link name=\"camera\">\n",
    "    <visual>\n",
    "      <origin rpy=\"0 1.570795 0\" xyz=\"0 0 0\"/>\n",
    "      <geometry>\n",
    "        <mesh filename=\"package://nexus_4wd_mecanum_description/meshes/piCamera.stl\" scale=\"0.0025 0.0025 0.0025\"/>\n",
    "      </geometry>\n",
    "      <material name=\"yellow\"/>\n",
    "    </visual>\n",
    "    <collision>\n",
    "      <origin rpy=\"0 1.570795 0\" xyz=\"0 0 0\"/>\n",
    "      <geometry>\n",
    "        <box size=\"0.075 0.075 0.025\"/>\n",
    "      </geometry>\n",
    "    </collision>\n",
    "    <inertial>\n",
    "      <origin rpy=\"0 1.570795 0\" xyz=\"0 0 0\"/>\n",
    "      <mass value=\"1e-3\"/>\n",
    "      <inertia ixx=\"1e-6\" ixy=\"0\" ixz=\"0\" iyy=\"1e-6\" iyz=\"0\" izz=\"1e-6\"/>\n",
    "    </inertial>\n",
    "  </link>\n",
    "  <!-- 2D Camera JOINT base_link -->\n",
    "  <joint name=\"joint_camera\" type=\"fixed\">\n",
    "    <axis xyz=\"0 0 1\"/>\n",
    "    <origin rpy=\"0 0 0\" xyz=\"0.16 0 0.05\"/>\n",
    "    <parent link=\"base_link\"/>\n",
    "    <child link=\"camera\"/>\n",
    "  </joint>"
   ]
  },
  {
   "cell_type": "markdown",
   "metadata": {},
   "source": [
    "A driver is needed to view the images."
   ]
  },
  {
   "cell_type": "code",
   "execution_count": null,
   "metadata": {},
   "outputs": [],
   "source": [
    "  <!-- 2D Camera controller -->\n",
    "  <gazebo reference=\"camera\">\n",
    "    <sensor name=\"camera1\" type=\"camera\">\n",
    "      <update_rate>30.0</update_rate>\n",
    "      <camera name=\"front\">\n",
    "        <horizontal_fov>1.3962634</horizontal_fov>\n",
    "        <image>\n",
    "          <width>800</width>\n",
    "          <height>800</height>\n",
    "          <format>R8G8B8</format>\n",
    "        </image>\n",
    "        <clip>\n",
    "          <near>0.02</near>\n",
    "          <far>300</far>\n",
    "        </clip>\n",
    "      </camera>\n",
    "      <plugin filename=\"libgazebo_ros_camera.so\" name=\"camera_controller\">\n",
    "        <alwaysOn>true</alwaysOn>\n",
    "        <updateRate>0.0</updateRate>\n",
    "        <cameraName>rubot/camera1</cameraName>\n",
    "        <imageTopicName>image_raw</imageTopicName>\n",
    "        <cameraInfoTopicName>camera_info</cameraInfoTopicName>\n",
    "        <frameName>camera</frameName>\n",
    "        <hackBaseline>0.07</hackBaseline>\n",
    "        <distortionK1>0.0</distortionK1>\n",
    "        <distortionK2>0.0</distortionK2>\n",
    "        <distortionK3>0.0</distortionK3>\n",
    "        <distortionT1>0.0</distortionT1>\n",
    "        <distortionT2>0.0</distortionT2>\n",
    "      </plugin>\n",
    "    </sensor>\n",
    "  </gazebo>"
   ]
  },
  {
   "cell_type": "markdown",
   "metadata": {},
   "source": [
    "### LIDAR sensor\n",
    "\n",
    "This sensor is integrated as a link and fixed joint for visual purposes:"
   ]
  },
  {
   "cell_type": "code",
   "execution_count": null,
   "metadata": {},
   "outputs": [],
   "source": [
    "  <!-- LIDAR base_scan -->\n",
    "  <link name=\"base_scan\">\n",
    "    <visual name=\"sensor_body\">\n",
    "      <origin rpy=\"0 0 0\" xyz=\"0 0 0.04\"/>\n",
    "      <geometry>\n",
    "        <mesh filename=\"package://nexus_4wd_mecanum_description/meshes/X4.stl\" scale=\"0.0015 0.0015 0.0015\"/>\n",
    "      </geometry>\n",
    "      <material name=\"yellow\"/>\n",
    "    </visual>\n",
    "    <collision>\n",
    "      <origin rpy=\"0 0 0\" xyz=\"0 0 0.04\"/>\n",
    "      <geometry>\n",
    "        <cylinder length=\"0.01575\" radius=\"0.0275\"/>\n",
    "      </geometry>\n",
    "    </collision>\n",
    "    <inertial>\n",
    "      <origin rpy=\"0 0 0\" xyz=\"0 0 0.4\"/>\n",
    "      <mass value=\"0.057\"/>\n",
    "      <inertia ixx=\"0.001\" ixy=\"0.0\" ixz=\"0.0\" iyy=\"0.001\" iyz=\"0.0\" izz=\"0.001\"/>\n",
    "    </inertial>\n",
    "  </link>\n",
    "  <!-- LIDAR base_scan JOINT base_link -->\n",
    "  <joint name=\"scan_joint\" type=\"fixed\">\n",
    "    <axis xyz=\"0 0 1\"/>\n",
    "    <origin rpy=\"0 0 0\" xyz=\"0 0 0.09\"/>\n",
    "    <parent link=\"base_link\"/>\n",
    "    <child link=\"base_scan\"/>\n",
    "  </joint>"
   ]
  },
  {
   "cell_type": "markdown",
   "metadata": {},
   "source": [
    "A driver is needed to see the 720 laser distance points:"
   ]
  },
  {
   "cell_type": "code",
   "execution_count": null,
   "metadata": {},
   "outputs": [],
   "source": [
    "  <!-- Laser Distance Sensor YDLIDAR X4 controller-->\n",
    "  <gazebo reference=\"base_scan\">\n",
    "    <sensor name=\"lds_lfcd_sensor\" type=\"ray\">\n",
    "      <pose>0 0 0 0 0 0</pose>\n",
    "      <visualize>false</visualize>\n",
    "      <update_rate>5</update_rate>\n",
    "      <ray>\n",
    "        <scan>\n",
    "          <horizontal>\n",
    "            <samples>720</samples>\n",
    "            <resolution>0.5</resolution>\n",
    "            <min_angle>0.0</min_angle>\n",
    "            <max_angle>6.28319</max_angle>\n",
    "          </horizontal>\n",
    "        </scan>\n",
    "        <range>\n",
    "          <min>0.12</min>\n",
    "          <max>10</max>\n",
    "          <resolution>0.015</resolution>\n",
    "        </range>\n",
    "        <noise>\n",
    "          <type>gaussian</type>\n",
    "          <!-- Noise parameters based on published spec for YDLIDAR X4\n",
    "              is 1.5% at half range 4m (= 60mm, \"+-160mm\" accuracy at max. range 8m).\n",
    "              A mean of 0.0m and stddev of 0.020m will put 99.7% of samples\n",
    "              within 0.16m of the true reading. -->\n",
    "          <mean>0.0</mean>\n",
    "          <stddev>0.02</stddev>\n",
    "        </noise>\n",
    "      </ray>\n",
    "      <plugin filename=\"libgazebo_ros_laser.so\" name=\"gazebo_ros_lds_lfcd_controller\">\n",
    "        <!-- topicName>/gopigo/scan</topicName -->\n",
    "        <topicName>scan</topicName>\n",
    "        <frameName>base_scan</frameName>\n",
    "      </plugin>\n",
    "    </sensor>\n",
    "  </gazebo>"
   ]
  },
  {
   "cell_type": "markdown",
   "metadata": {},
   "source": [
    "### Mecanum Drive controller\n",
    "A driver is needed to describe the kinematics.This kinematics is described in the \"libgazebo_ros_planar_move.so\" file and the URDF model will contain the specific gazebo plugin.\n",
    "\n",
    "This driver is the \"Planar Move Plugin\" and is described in Gazebo tutorials: http://gazebosim.org/tutorials?tut=ros_gzplugins#AddingaModelPlugin"
   ]
  },
  {
   "cell_type": "code",
   "execution_count": null,
   "metadata": {},
   "outputs": [],
   "source": [
    "  <!-- Mecanum drive controller -->\n",
    "  <gazebo>\n",
    "    <plugin name=\"Mecanum_controller\" filename=\"libgazebo_ros_planar_move.so\">\n",
    "      <commandTopic>cmd_vel</commandTopic>\n",
    "      <odometryTopic>odom</odometryTopic>\n",
    "      <odometryFrame>odom</odometryFrame>\n",
    "      <odometryRate>50.0</odometryRate>\n",
    "      <robotBaseFrame>base_footprint</robotBaseFrame>\n",
    "    </plugin>\n",
    "  </gazebo>"
   ]
  },
  {
   "cell_type": "markdown",
   "metadata": {},
   "source": [
    "We can open the new model in rviz and gazebo:\n",
    "\n",
    "- roslaunch nexus_mecanum display.launch\n",
    "- roslaunch nexus_mecanum gazebo.launch"
   ]
  },
  {
   "cell_type": "markdown",
   "metadata": {},
   "source": [
    "![Getting Starter](./Images/1_nexus_mecanum2.png)"
   ]
  },
  {
   "cell_type": "markdown",
   "metadata": {},
   "source": [
    "To control the POSE with cmd_vel we can install the package: \n",
    "- For Holonomic movements: http://wiki.ros.org/teleop_twist_keyboard\n",
    "- for non-holonomic movements: http://wiki.ros.org/teleop_tools"
   ]
  },
  {
   "cell_type": "code",
   "execution_count": null,
   "metadata": {},
   "outputs": [],
   "source": [
    "sudo apt-get install ros-melodic-teleop-tools\n",
    "or\n",
    "sudo apt-get install ros-melodic-teleop-twist-keyboard"
   ]
  },
  {
   "cell_type": "markdown",
   "metadata": {},
   "source": [
    "To launch the control:"
   ]
  },
  {
   "cell_type": "code",
   "execution_count": null,
   "metadata": {},
   "outputs": [],
   "source": [
    "rosrun key_teleop key_teleop.py /key_vel:=/cmd_vel\n",
    "or\n",
    "rosrun teleop_twist_keyboard teleop_twist_keyboard.py"
   ]
  },
  {
   "cell_type": "markdown",
   "metadata": {},
   "source": [
    "### 1.3. rUBot mecanum model\n",
    "\n",
    "We can create a new model in 3D using SolidWorks and use the URDF plugin to generate the URDF file model: rubot_mecanum.urdf\n",
    "\n",
    "This model is located in a new \"rubot_mecanum\" package\n",
    "\n",
    "We add the same sensors and plugins.\n",
    "\n",
    "We can open the new model in rviz and gazebo:\n",
    "\n",
    "- roslaunch rubot_mecanum display.launch\n",
    "- roslaunch rubot_mecanum gazebo.launch"
   ]
  },
  {
   "cell_type": "markdown",
   "metadata": {},
   "source": [
    "![Getting Starter](./Images/1_rubot_mecanum2.png)"
   ]
  },
  {
   "cell_type": "markdown",
   "metadata": {},
   "source": [
    "# 2. Mecanum robot spawn & control\n",
    "\n",
    "We have first to design a world where our robot will perform specific navigation tasks\n",
    "\n",
    "We will use nexus robot model"
   ]
  },
  {
   "cell_type": "markdown",
   "metadata": {},
   "source": [
    "## 2.1. World definition\n",
    "\n",
    "Here we have first to design the world, for exemple a maze from where our rUBot mecanum has to navigate autonomously.\n",
    "\n",
    "There is a very useful and simple tool to design a proper world: \"Building editor\" in gazebo.\n",
    "\n",
    "Open gazebo as superuser:\n",
    "\n",
    "- sudo gazebo\n",
    "\n",
    "You can build your world using \"Building Editor\" in Edit menu"
   ]
  },
  {
   "cell_type": "markdown",
   "metadata": {},
   "source": [
    "![Getting Started](./Images/1_maze1.png)"
   ]
  },
  {
   "cell_type": "markdown",
   "metadata": {},
   "source": [
    "You can save:\n",
    "\n",
    "- the generated model in a model folder (without extension)\n",
    "\n",
    "Close the Builder Editor, modify the model position and add other elements if needed. Save:\n",
    "\n",
    "- the generated world (with extension .world) in the world folder.\n",
    "\n",
    "Once you finish is better to close the terminal you have work as superuser"
   ]
  },
  {
   "cell_type": "markdown",
   "metadata": {},
   "source": [
    "## 2.2. Spawn rubot Mecanum in world\n",
    "We have created a specific world \"square.world\" and we can spawn the robot model inside this world.\n",
    "\n",
    "For that, we have created a \"nexus_world.launch\" file.\n",
    "\n",
    "Type to launch the file:\n",
    "\n",
    "- roslaunch nexus_mecanum nexus_world.launch\n",
    "- roslaunch nexus_mecanum display.launch"
   ]
  },
  {
   "cell_type": "code",
   "execution_count": null,
   "metadata": {},
   "outputs": [],
   "source": [
    "<?xml version=\"1.0\"?>\n",
    "<launch>\n",
    "  <!-- Define the needed parameters -->\n",
    "  <arg name=\"world\" default=\"square.world\"/> \n",
    "  <arg name=\"model\" default=\"nexus.urdf\" />\n",
    "  <arg name=\"x_pos\" default=\"0.5\"/>\n",
    "  <arg name=\"y_pos\" default=\"0.5\"/>\n",
    "  <arg name=\"z_pos\" default=\"0.0\"/>\n",
    "\n",
    "  <include file=\"$(find gazebo_ros)/launch/empty_world.launch\">\n",
    "    <arg name=\"world_name\" value=\"$(find nexus_mecanum)/worlds/$(arg world)\" />\n",
    "  </include>\n",
    "  <!-- Spawn the robot -->\n",
    "  <!-- Robot URDF definition -->\n",
    "    <param name=\"robot_description\" textfile=\"$(find nexus_mecanum)/urdf/$(arg model)\"/>\n",
    "  <node name=\"spawn_model\" pkg=\"gazebo_ros\" type=\"spawn_model\"\n",
    "    args=\"-urdf -model nexus -param robot_description -x $(arg x_pos) -y $(arg y_pos) -z $(arg z_pos)\" />\n",
    "</launch>\n"
   ]
  },
  {
   "cell_type": "markdown",
   "metadata": {},
   "source": [
    "In the case of nexus_mecanum robot:"
   ]
  },
  {
   "cell_type": "markdown",
   "metadata": {},
   "source": [
    "![Getting Starter](./Images/1_nexus_mecanum.png)"
   ]
  },
  {
   "cell_type": "markdown",
   "metadata": {},
   "source": [
    "To control the robot with the Keyboard you have to install the \"teleop-tools\" package:\n",
    "\n",
    "Perhaps is needed to setup your Keys again:\n",
    "\n",
    "- curl -s https://raw.githubusercontent.com/ros/rosdistro/master/ros.asc | sudo apt-key add -\n",
    "- sudo apt get update\n",
    "\n",
    "Then you can control the nexus robot with the following package"
   ]
  },
  {
   "cell_type": "code",
   "execution_count": null,
   "metadata": {},
   "outputs": [],
   "source": [
    "sudo apt-get install ros-melodic-teleop-twist-keyboard"
   ]
  },
  {
   "cell_type": "markdown",
   "metadata": {},
   "source": [
    "Then you will be able to control the robot with the Keyboard typing:"
   ]
  },
  {
   "cell_type": "code",
   "execution_count": null,
   "metadata": {},
   "outputs": [],
   "source": [
    "rosrun teleop_twist_keyboard teleop_twist_keyboard.py"
   ]
  },
  {
   "cell_type": "markdown",
   "metadata": {},
   "source": [
    "# 3. rubot mecanum navigation control in the new world environment\n",
    "\n",
    "Once the world has been generated we will create a ROS Package \"rubot_control\" to perform the autonomous navigation"
   ]
  },
  {
   "cell_type": "code",
   "execution_count": null,
   "metadata": {},
   "outputs": [],
   "source": [
    "cd ~/rubot_mecanum_ws/src\n",
    "catkin_create_pkg nexus_control rospy std_msgs sensor_msgs geometry_msgs nav_msgs\n",
    "cd ..\n",
    "catkin_make"
   ]
  },
  {
   "cell_type": "markdown",
   "metadata": {},
   "source": [
    "## 3.1 Kinematics model of mecanum robot\n",
    "\n",
    "The first concept we are going to go through is kinematic models. So, we know what kinematics are, but, what is a kinematic model?\n",
    "\n",
    "Wheeled mobile robots may be classified in two major categories, holonomic or (omnidirectional) and nonholonomic. Whether a wheeled mobile robot is omnidirectional or not depends in part on the type of wheels it employs. Nonholonomic mobile robots, such as conventional cars, employ conventional wheels, which prevents cars from moving directly sideways.\n",
    "\n",
    "We will define the Kinematic model for Holonomic Mecanum wheeled robot\n",
    "\n",
    "Specifically, you will learn about:\n",
    "\n",
    "- Kinematic model of a holonomic robot\n",
    "- Motion with respect to the robot's frame\n",
    "- Motion with respect to the world's frame\n",
    "\n",
    "A kinematic model of a mobile robot governs how wheel speeds map to robot velocities. We assume that the robot rolls on hard, flat, horizontal ground without skidding, and it has a single rigid-body chassis (not articulated like a tractor-trailer) with a configuration 𝑇𝑠𝑏∈𝑆𝐸(2) representing a chassis-fixed frame {b} relative to a fixed space frame {s} in the horizontal plane.\n",
    "\n",
    "Omnidirectional wheeled mobile robots typically employ either omniwheels or mecanum wheels, which are typical wheels augmented with rollers on their outer circumference. These rollers spin freely and they allow sideways sliding while the wheel drives forward or backward without slip in that direction.\n",
    "\n",
    "Unlike the front wheels in a car, those wheels are not steered, only driven forward or backward.\n",
    "\n",
    "We represent 𝑇𝑠𝑏 by the three coordinates 𝑞=(𝜙,𝑥,𝑦) , and the velocity of the chassis as the time derivative of the coordinates, 𝑞˙=(𝜙˙,𝑥˙,𝑦˙) . We also define the chassis' planar twist 𝜈𝑏=(𝜔𝑏𝑧,𝑣𝑏𝑥,𝑣𝑏𝑦) expressed in {b}\n",
    "\n",
    "The kinematic model of the mobile robot with four mecanum wheels is depicted below.\n",
    "\n",
    "The different movements our car can perform are:"
   ]
  },
  {
   "cell_type": "markdown",
   "metadata": {},
   "source": [
    "<img src=\"./Images/1_mecanumDrive.png\">"
   ]
  },
  {
   "cell_type": "markdown",
   "metadata": {},
   "source": [
    "![Getting Started](./Images/1_mecanumDrive1.png)"
   ]
  },
  {
   "cell_type": "markdown",
   "metadata": {},
   "source": [
    "The kinematics model defining the cartesian velocities in function ot wheel velocities is described:"
   ]
  },
  {
   "cell_type": "markdown",
   "metadata": {},
   "source": [
    "![Getting Started](./Images/1_mecanumDrive2.png)"
   ]
  },
  {
   "cell_type": "markdown",
   "metadata": {},
   "source": [
    "where\n",
    "\n",
    "- Vi: Linear speed of the wheels.\n",
    "- ωdi: Angular speed of the wheels. (It is equal to Wdi in the calculation of the kinematics)\n",
    "- Vir: Tangential speed of the rollers.\n",
    "- ul: Linear velocity of the system on the X axis.\n",
    "- uf: Linear velocity of the system on the Y axis.\n",
    "- ω: Speed of rotation of the system on the Z axis.\n",
    "- a: Distance from the center of the robot to the axis of rotation of the wheel.\n",
    "- b: Distance from the center of the robot to the center of the width of the wheel.\n",
    "\n",
    "(see [Lynch & Park, 2017] for a complete derivation of this model)."
   ]
  },
  {
   "cell_type": "markdown",
   "metadata": {},
   "source": [
    "## 3.2. Mecanum control in a world environment\n",
    "\n",
    "Diferent navigation programs are created:\n",
    "\n",
    "- movement control:\n",
    "    - a python file \"rubot_control1.py\" to control the movement linear velocity in x-y direction and angular velocity in z directiron and with a maximum displacement of direction\n",
    "    - a launch file \"rubot_control1.launch\"\n",
    "    - The parameters vx,vy,w and d can be configured in the launch file\n",
    "- Lidar test: to verify the LIDAR readings and angles\n",
    "- Autonomous navigation: using the LIDAR to avoid obstacles\n",
    "- follow wall\n",
    "- go to POSE"
   ]
  },
  {
   "cell_type": "markdown",
   "metadata": {},
   "source": [
    "### a) Movement control\n",
    "\n",
    "Control the movement linear velocity in x-y direction and angular velocity in z directiron and with a maximum displacement of direction"
   ]
  },
  {
   "cell_type": "code",
   "execution_count": null,
   "metadata": {},
   "outputs": [],
   "source": [
    "<launch>\n",
    "    <arg name=\"world\" default=\"square.world\"/> \n",
    "    <arg name=\"model\" default=\"nexus.urdf\" />\n",
    "    <arg name=\"x_pos\" default=\"0.0\"/>\n",
    "    <arg name=\"y_pos\" default=\"0.0\"/>\n",
    "    <arg name=\"z_pos\" default=\"0.0\"/>\n",
    "  \n",
    "    <include file=\"$(find gazebo_ros)/launch/empty_world.launch\">\n",
    "      <arg name=\"world_name\" value=\"$(find nexus_control)/worlds/$(arg world)\"/>\n",
    "    </include>\n",
    "  \n",
    "  <!-- Load rviz -->\n",
    "    <include file=\"$(find nexus_mecanum)/launch/display.launch\" />\n",
    "\n",
    "  <!-- Spawn the robot -->\n",
    "    <param name=\"robot_description\" textfile=\"$(find nexus_mecanum)/urdf/$(arg model)\" />\n",
    "    <node pkg=\"gazebo_ros\" type=\"spawn_model\" name=\"spawn_model\"\n",
    "      args=\"-urdf -model rubot -x $(arg x_pos) -y $(arg y_pos) -z $(arg z_pos) -param robot_description\" />\n",
    "  \n",
    "  <!-- run navigation program   -->\n",
    "    <arg name=\"vx\" default=\"0.1\"/>\n",
    "    <arg name=\"vy\" default=\"0.1\"/>\n",
    "    <arg name=\"w\" default=\"0.2\"/>\n",
    "    <arg name=\"d\" default=\"0.5\"/>\n",
    "    <node pkg=\"nexus_control\" type=\"rubot_control1.py\" name=\"rubot_nav\" output=\"screen\" >\n",
    "      <param name=\"vx\" value=\"$(arg vx)\"/>\n",
    "      <param name=\"vy\" value=\"$(arg vy)\"/>\n",
    "      <param name=\"w\" value=\"$(arg w)\"/>\n",
    "      <param name=\"d\" value=\"$(arg d)\"/>\n",
    "    </node>\n",
    "  </launch>"
   ]
  },
  {
   "cell_type": "code",
   "execution_count": null,
   "metadata": {},
   "outputs": [],
   "source": [
    "roslaunch nexus_control rubot_control1.launch"
   ]
  },
  {
   "cell_type": "markdown",
   "metadata": {},
   "source": [
    "### b) LIDAR test\n",
    "\n",
    "to verify the LIDAR readings and angles"
   ]
  },
  {
   "cell_type": "code",
   "execution_count": null,
   "metadata": {},
   "outputs": [],
   "source": [
    "#! /usr/bin/env python\n",
    "\n",
    "import rospy\n",
    "from sensor_msgs.msg import LaserScan\n",
    "\n",
    "def callback(msg):\n",
    "    print (\"Number of scan points: \"+ str(len(msg.ranges)))\n",
    "    # values at 0 degrees\n",
    "    print (\"Distance at 0deg: \" + str(msg.ranges[0]))\n",
    "    # values at 90 degrees\n",
    "    print (\"Distance at 90deg: \" + str(msg.ranges[180]))\n",
    "    # values at 180 degrees\n",
    "    print (\"Distance at 180deg: \" + str(msg.ranges[360]))\n",
    "    # values at 270 degrees\n",
    "    print (\"Distance at 270deg: \" + str(msg.ranges[540]))\n",
    "    # values at 360 degrees\n",
    "    print (\"Distance at 360deg: \" + str(msg.ranges[719]))\n",
    "\n",
    "rospy.init_node('scan_values')\n",
    "sub = rospy.Subscriber('/scan', LaserScan, callback)\n",
    "rospy.spin()"
   ]
  },
  {
   "cell_type": "code",
   "execution_count": null,
   "metadata": {},
   "outputs": [],
   "source": [
    "roslaunch nexus_control rubot_lidar_test.launch\n",
    "rosrun teleop_twist_keyboard teleop_twist_keyboard.py"
   ]
  },
  {
   "cell_type": "markdown",
   "metadata": {},
   "source": [
    "![Getting Started](./Images/1_nexus_lidar_test.png)"
   ]
  },
  {
   "cell_type": "markdown",
   "metadata": {},
   "source": [
    "### c) Autonomous navigation\n",
    "\n",
    "Navigate autonomously using the LIDAR to avoid obstacles."
   ]
  },
  {
   "cell_type": "code",
   "execution_count": null,
   "metadata": {},
   "outputs": [],
   "source": [
    "roslaunch nexus_control rubot_self_nav.launch"
   ]
  },
  {
   "cell_type": "markdown",
   "metadata": {},
   "source": [
    "![Getting Started](./Images/1_nexus_self.png)"
   ]
  },
  {
   "cell_type": "markdown",
   "metadata": {},
   "source": [
    "### d) Follow wall\n",
    "\n",
    "Follow the wall accuratelly to make a map with precision to apply SLAM techniques for navigation purposes "
   ]
  },
  {
   "cell_type": "markdown",
   "metadata": {},
   "source": [
    "![Getting Started](./Images/1_nexus_wall_follow.png)"
   ]
  },
  {
   "cell_type": "markdown",
   "metadata": {},
   "source": [
    "### e) Go to POSE\n",
    "\n",
    "Define a specific Position and Orientation as a target point to nexus robot"
   ]
  }
 ],
 "metadata": {
  "interpreter": {
   "hash": "767d51c1340bd893661ea55ea3124f6de3c7a262a8b4abca0554b478b1e2ff90"
  },
  "kernelspec": {
   "display_name": "Python 2.7.17 64-bit",
   "name": "python3"
  },
  "language_info": {
   "name": "python",
   "version": "2.7.17"
  },
  "metadata": {
   "interpreter": {
    "hash": "31f2aee4e71d21fbe5cf8b01ff0e069b9275f58929596ceb00d14d90e3e16cd6"
   }
  },
  "orig_nbformat": 2
 },
 "nbformat": 4,
 "nbformat_minor": 2
}
