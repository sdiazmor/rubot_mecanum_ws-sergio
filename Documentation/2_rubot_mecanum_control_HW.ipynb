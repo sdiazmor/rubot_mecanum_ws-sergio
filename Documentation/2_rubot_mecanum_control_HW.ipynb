{
 "cells": [
  {
   "cell_type": "markdown",
   "source": [
    "# rUBot Mecanum Hardware\n",
    "\n",
    "The robot HW is based on:\n",
    "- Mecanum wheel chasis:\n",
    "- Raspberrypi4\n",
    "- Arduino mega\n",
    "- Arduino motor driver shield TB6612FNG:\n",
    "    - https://es.aliexpress.com/item/4001086592215.html?spm=a2g0o.productlist.0.0.55da155eRs0f1N&algo_pvid=523f34f9-da3e-4a7e-bcbd-927dc560fb14&algo_exp_id=523f34f9-da3e-4a7e-bcbd-927dc560fb14-40\n",
    "    - https://github.com/Seeed-Studio/Grove_Motor_Driver_TB6612FNG\n"
   ],
   "metadata": {}
  },
  {
   "cell_type": "markdown",
   "source": [
    "## Raspberrypi4 Install\n",
    "\n",
    "We can install the operating systems:\n",
    "- Raspberry Pi OS\n",
    "- Ubuntu 18 server\n",
    "\n",
    "### Install Raspberry Pi OS\n",
    "Follow the steps in order to properly install the Raspberrypi:\n",
    "\n",
    "- Install Raspberry Pi OS using Raspberry Pi Imager (download for windows): https://www.raspberrypi.org/software/\n",
    "- Run the application and save the image:\n",
    "    - Raspbian: (Raspberry pi OS (32-bit)) to the SD card\n",
    "- Insert the SD in a RBPi board and connect it to screen\n",
    "- The system ask you to choose a wifi network and change the timezone, language and password\n",
    "- Reboot and select Raspberry Pi Configuration to activate the SSH and Camera\n",
    "- reboot and open a terminal to obtain the IP address using \"ifconfig\"\n",
    "\n",
    "You are now ready to connect from your Ubuntu Virtual machine using VS Code or a simple terminal"
   ],
   "metadata": {}
  },
  {
   "cell_type": "markdown",
   "source": [
    "![Getting Starter](./Images/5_rbpi4_imager.png)"
   ],
   "metadata": {}
  },
  {
   "cell_type": "markdown",
   "source": [
    "Alternativelly you can connect to the RBPi using SSH in a wifi network without the previous configurations using a screen connection if you follow the instructions:\n",
    "\n",
    "- add ssh file (without extension) in the SD in the G:boot directory\n",
    "- add wpa_supplicant.conf file containing different wifi information"
   ],
   "metadata": {}
  },
  {
   "cell_type": "markdown",
   "source": [
    "## Ubuntu 18 server on RaspberryPi4\n",
    "\n",
    "Follow the steps:\n",
    "- Download the image Ubuntu 18 server for Raspberrypi3 (64-bit ARM): https://cdimage.ubuntu.com/releases/18.04/release/\n",
    "- Use Balena Etcher to copy it to a SD card 32GB\n",
    "- connect the RaspberryPi4 with internet cable and insert the SD card\n",
    "- Connect to a Screen and after few minutes press enter\n",
    "- type \"ubuntu\" for login and \"ubuntu\" for password\n",
    "- modify the password (in our case is rubot1mecanum)\n",
    "- type \"sudo apt update\"\n",
    "- type \"sudo apt upgrade\"\n",
    "- type \"sudo apt-get install ubuntu-desktop\" (or xubuntu-desktop)\n",
    "- type \"sudo reboot\"\n"
   ],
   "metadata": {}
  },
  {
   "cell_type": "markdown",
   "source": [
    "### Win IP Scanner\n",
    "Install IP scanner for windows: https://www.advanced-ip-scanner.com/es/\n",
    "\n",
    "Connect the RBPi to the router and find the IP number"
   ],
   "metadata": {}
  },
  {
   "cell_type": "markdown",
   "source": [
    "### Connection to RBPi from Ubuntu PC\n",
    "The first connection to the RBPi has to be using a Terminal in Virtual Box:\n",
    "\n",
    "- type \"ssh pi@192.168.18.46\" (the default user:pi and pass:raspberry)\n",
    "- When you connect the same RBPi to another network, you have a warning because you have to regenerate the KeyGen of your computer. You have to type (using the proper IP): ssh-keygen -R 192.168.18.46"
   ],
   "metadata": {}
  },
  {
   "cell_type": "markdown",
   "source": [
    "### Remote Desktop \n",
    "This Desktop is available for Windows and MAC users. To configure this remote access:\n",
    "#### In Raspberry Pi OS: VNC\n",
    "\n",
    "- To begin, open up the raspi-config tool by running the following command: sudo raspi-config\n",
    "- Within the configuration tool, use the arrow keys to scroll down to \"2. Display Options\" and \"D1. Resolution\"\n",
    "- Select the desired resolution. Usually DMT Mode 82 1920x1080 60Hz 16:9\n",
    "- Press OK\n",
    "- Within the configuration tool, use the arrow keys to scroll down to \"3. Interface Options\" and \"P1. Camera\" and \"P3. VNC\"\n",
    "- Select VNC enable\n",
    "- Press \"finish\" and \"OK\" and reboot\n",
    "\n",
    "In any OS you will have to:\n",
    "\n",
    "Now in your PC install VNC Viewer: https://www.realvnc.com/es/connect/download/viewer/raspberrypi/\n",
    "\n",
    "You will be able to enter in the raspberrypi4 desktop\n",
    "\n",
    "#### In Ubuntu 18 server: nomachine\n",
    "\n",
    "- Download nomachine in RaspberryPi and PC: \n",
    "    - In raspberryPi (ARMv8 DEB): https://www.nomachine.com/download/linux&id=29&s=Raspberry\n",
    "    - In PC: https://www.nomachine.com/\n",
    "    "
   ],
   "metadata": {}
  },
  {
   "cell_type": "markdown",
   "source": [
    "### Assign a static IP address\n",
    "\n",
    "You need to modify the \"/etc/dhcpcd.conf\" file with the last following lines:"
   ],
   "metadata": {}
  },
  {
   "cell_type": "code",
   "execution_count": null,
   "source": [
    "interface wlan0\n",
    "static ip_address=192.168.18.200/24\n",
    "static routers=192.168.18.1\n",
    "static domain_name_servers=192.168.18.1"
   ],
   "outputs": [],
   "metadata": {}
  },
  {
   "cell_type": "markdown",
   "source": [
    "Carefull!:\n",
    "- select the interface wifi: in my case wlan0\n",
    "- select the router domain in my case is: 192.168.18.15/24 (here the desired static IP is 15) "
   ],
   "metadata": {}
  },
  {
   "cell_type": "markdown",
   "source": [
    "## Install ROS Melodic\n",
    "The installation will be in function of the OS installed on raspberrypi:\n",
    "- Raspbian\n",
    "- Ubuntu18"
   ],
   "metadata": {}
  },
  {
   "cell_type": "markdown",
   "source": [
    "### Raspbian\n",
    "Follow the instructions on the document: Raspbian_ROS_Melodic.txt\n",
    "\n",
    "Refer to the official webpage: http://wiki.ros.org/ROSberryPi/Installing%20ROS%20Melodic%20on%20the%20Raspberry%20Pi"
   ],
   "metadata": {}
  },
  {
   "cell_type": "markdown",
   "source": [
    "### Ubuntu\n",
    "Follow the instructions on: http://wiki.ros.org/melodic/Installation/Ubuntu"
   ],
   "metadata": {}
  },
  {
   "cell_type": "markdown",
   "source": [
    "## Create our workspace\n",
    "\n",
    "We will create the workspace where we will install all needed packages for our Hardware project"
   ],
   "metadata": {}
  },
  {
   "cell_type": "code",
   "execution_count": null,
   "source": [
    "mkdir -p ~/rubot_ws/src\n",
    "cd ~/rubot_ws/\n",
    "catkin_make\n",
    "echo \"source ~/rubot_ws/devel/setup.bash\" >> ~/.bashrc"
   ],
   "outputs": [],
   "metadata": {}
  },
  {
   "cell_type": "markdown",
   "source": [
    "### Install Sensor packages\n",
    "#### 1. Camera RaspberryPi"
   ],
   "metadata": {}
  },
  {
   "cell_type": "code",
   "execution_count": null,
   "source": [
    "cd ~/rubot_ws/src/\n",
    "mkdir camera\n",
    "cd ~/rubot_ws/src/camera/\n",
    "git clone https://github.com/UbiquityRobotics/raspicam_node.git\n",
    "git clone --single-branch --branch=indigo-devel https://github.com/ros-perception/image_transport_plugins.git\n",
    "git clone --single-branch --branch=melodic https://github.com/ros-perception/vision_opencv.git\n",
    "git clone --single-branch --branch=hydro-devel https://github.com/ros-perception/image_common.git"
   ],
   "outputs": [],
   "metadata": {}
  },
  {
   "cell_type": "markdown",
   "source": [
    "#### 2. LIDAR\n",
    "\n",
    "We will install the 2 LIDAR models we have: YD-LIDAR and RP-LIDAR"
   ],
   "metadata": {}
  },
  {
   "cell_type": "code",
   "execution_count": null,
   "source": [
    "cd ~/rubot_ws/src/\n",
    "mkdir lidar"
   ],
   "outputs": [],
   "metadata": {}
  },
  {
   "cell_type": "markdown",
   "source": [
    "##### YD-LIDAR"
   ],
   "metadata": {}
  },
  {
   "cell_type": "code",
   "execution_count": null,
   "source": [
    "cd ~/rubot_ws/src/lidar/\n",
    "git clone https://github.com/EAIBOT/ydlidar.git"
   ],
   "outputs": [],
   "metadata": {}
  },
  {
   "cell_type": "markdown",
   "source": [
    "Plug the LIDAR USB and we want pi and dialout as owner/owner group"
   ],
   "metadata": {}
  },
  {
   "cell_type": "code",
   "execution_count": null,
   "source": [
    "ls -la /dev/ttyUSB*\n",
    "sudo chown pi:dialout /dev/ttyUSB0\n",
    "roscd ydlidar/startup\n",
    "sudo chmod a+rwx ./*\n",
    "sudo sh initenv.sh"
   ],
   "outputs": [],
   "metadata": {}
  },
  {
   "cell_type": "markdown",
   "source": [
    "##### RP-LIDAR"
   ],
   "metadata": {}
  },
  {
   "cell_type": "code",
   "execution_count": null,
   "source": [
    "cd ~/rubot_ws/src/lidar/\n",
    "git clone https://github.com/Slamtec/rplidar_ros"
   ],
   "outputs": [],
   "metadata": {}
  },
  {
   "cell_type": "markdown",
   "source": [
    "To test the sensor, connect the LIDAR sensor to RB Pi and execute:"
   ],
   "metadata": {}
  },
  {
   "cell_type": "code",
   "execution_count": null,
   "source": [
    "roslaunch rplidar_ros view_rplidar.launch"
   ],
   "outputs": [],
   "metadata": {}
  },
  {
   "cell_type": "markdown",
   "source": [
    "#### 3. Mecanum robot wheel control\n",
    "\n",
    "This robot will be controlled by an Arduino Mega board.\n",
    "\n",
    "The arduino program will start a serial_node with all the topics\n",
    "\n",
    "The Arduino programm is located in \"files/Arduino_node\" folder. "
   ],
   "metadata": {}
  },
  {
   "cell_type": "markdown",
   "source": [
    "##### Install Arduino IDE\n",
    "\n",
    "Considering your Raspberry computer uses Ubuntu 18, as explained in previous sections, you need to download Arduino IDE version for Linux ARM 64 bits from the following link: https://www.arduino.cc/en/software.\n",
    "\n",
    "After dowloading the zip file, reclocate it and unzip it in the Tools folder: ~/Tools/Arduino-1.8.15. From this directory, open a terminal and execute the following commands:"
   ],
   "metadata": {}
  },
  {
   "cell_type": "code",
   "execution_count": null,
   "source": [
    "./install.sh\n",
    "cd ~\n",
    "gedit .bashrc\n",
    "export PATH=$PATH:$HOME/Tools/Arduino-1.8.13"
   ],
   "outputs": [],
   "metadata": {}
  },
  {
   "cell_type": "markdown",
   "source": [
    "Save and close the file and install rosserial for ROS Melodic using:"
   ],
   "metadata": {}
  },
  {
   "cell_type": "code",
   "execution_count": null,
   "source": [
    "sudo apt-get install ros-melodic-rosserial-arduino\n",
    "sudo apt-get install ros-melodic-rosserial"
   ],
   "outputs": [],
   "metadata": {}
  },
  {
   "cell_type": "markdown",
   "source": [
    "Go to ~/Tools/Arduino-1.8.15/libraries directory and remove ros_lib folder. From this directory execute:"
   ],
   "metadata": {}
  },
  {
   "cell_type": "code",
   "execution_count": null,
   "source": [
    "\n",
    "rosrun rosserial_arduino make_libraries.py ."
   ],
   "outputs": [],
   "metadata": {}
  },
  {
   "cell_type": "markdown",
   "source": [
    "Now that Arduino is working, let's check if it is correctly connected to the wheels and if the wheels are receiving information to move.\n",
    "\n",
    "Close all the terminals. Open \"ArduinoROS_Sergi_amb_imu.ino\" in Arduino IDE. Compile and upload the script to Arduino2560 board. Now run in separate terminals:"
   ],
   "metadata": {}
  },
  {
   "cell_type": "code",
   "execution_count": null,
   "source": [
    "roscore\n",
    "rosrun rosserial_python serial_node.py /dev/ttyUSB0 \n",
    "#USB0 is the port to which the Arduino is connected, change it in case yours is different\n",
    "rostopic pub /cmd_vel geometry_msgs/Twist -r 10 -- '[0.5, 0.0, 0.0]' '[0.0, 0.0, 0.0]'"
   ],
   "outputs": [],
   "metadata": {}
  },
  {
   "cell_type": "markdown",
   "source": [
    "The last command sends a Twist message to the robot. The wheels should be moving forward. You can try different movements by modifying the numbers inside the brackets: '[vx, vy, vz]' '[wx, wy, wz]', you should only change vx, vy and wz values as the others do not apply. As it is an holonomic robot, if all the values are 0.0 except for wz (angular velocity in z axis) you will obtain a movement in which the robot spins on itself."
   ],
   "metadata": {}
  },
  {
   "cell_type": "markdown",
   "source": [
    "## Setup "
   ],
   "metadata": {}
  },
  {
   "cell_type": "markdown",
   "source": [
    "## Setup rUBot with sensors\n",
    "We will execute in different terminals:\n",
    "\n",
    "- the rubot_mecanum node for driving control\n",
    "- the rplidar node\n",
    "- the raspicam node\n",
    "\n",
    "There are some issues regarding the connection of the LIDAR and Arduino board at the same time, which generates a port collision, but it was proved that the following these steps the navigation works:\n",
    "\n",
    "- Connect RB Pi to a power supply so that it turns on\n",
    "- Connect the LIDAR sensor\n",
    "- Launch the LIDAR node: roslaunch rplidar_ros view_rplidar.launch\n",
    "- Connect Arduino board\n",
    "- Run rosserial node: rosrun rosserial_python serial_node.py /dev/ttyUSB1\n",
    "- Launch the autonomous navigation file for real-life robots: roslaunch rubotcoop_control rubot_nav2.launch\n",
    "\n",
    "Note that the port of Arduino board has changed from USB0 to USB1. That is due to the order of connection of the LIDAR sensor and the Arduino board. When connecting the LIDAR and executing it, it connects to USB0 port, leaving available the USB1 port for the Arduino board, to which it is connected when it is wired to the RB computer.\n",
    "\n",
    "After these instructions, your robot should be performing autonomous navigation and avoiding obstacles!\n",
    "\n",
    "Also, the terminal shows the minimum distance detected by the LIDAR sensor and displays a warning when it is less than a specified distance on the launch file."
   ],
   "metadata": {}
  },
  {
   "cell_type": "markdown",
   "source": [
    "![Getting Starter](./Images/5_rubot_nodes.png)"
   ],
   "metadata": {}
  },
  {
   "cell_type": "code",
   "execution_count": null,
   "source": [],
   "outputs": [],
   "metadata": {}
  }
 ],
 "metadata": {
  "kernelspec": {
   "display_name": "Python 3.6.9 64-bit",
   "name": "python369jvsc74a57bd031f2aee4e71d21fbe5cf8b01ff0e069b9275f58929596ceb00d14d90e3e16cd6"
  },
  "language_info": {
   "name": "python",
   "version": ""
  },
  "metadata": {
   "interpreter": {
    "hash": "31f2aee4e71d21fbe5cf8b01ff0e069b9275f58929596ceb00d14d90e3e16cd6"
   }
  },
  "orig_nbformat": 2
 },
 "nbformat": 4,
 "nbformat_minor": 2
}