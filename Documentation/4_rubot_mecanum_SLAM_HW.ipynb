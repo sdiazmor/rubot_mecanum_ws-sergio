{
 "cells": [
  {
   "cell_type": "markdown",
   "metadata": {},
   "source": [
    "# rUBot Kinematics control & Navigation\n",
    "\n",
    "In this section we will analyse:\n",
    "- Kinematics model of holonomic mobile robots\n",
    "- speed Control of nexus mecanum robots\n",
    "- first navigation programs including obstacle avoidance\n"
   ]
  },
  {
   "cell_type": "markdown",
   "metadata": {},
   "source": [
    "# 1. Kinematics model of Mobile Robots\n",
    "\n",
    "The first concept we are going to go through is kinematic models. So, we know what kinematics are, but, what is a kinematic model?\n",
    "\n",
    "Wheeled mobile robots may be classified in two major categories, holonomic or (omnidirectional) and nonholonomic. Whether a wheeled mobile robot is omnidirectional or not depends in part on the type of wheels it employs. Nonholonomic mobile robots, such as conventional cars, employ conventional wheels, which prevents cars from moving directly sideways.\n",
    "\n",
    "We will define the Kinematic model for Holonomic Mecanum wheeled robot"
   ]
  },
  {
   "cell_type": "markdown",
   "metadata": {},
   "source": [
    "In this Unit, you will learn about the kinematics of holonomic robots. Specifically, you will learn about:\n",
    "\n",
    "- Kinematic model of a holonomic robot\n",
    "- Motion with respect to the robot's frame\n",
    "- Motion with respect to the world's frame\n",
    "\n",
    "A kinematic model of a mobile robot governs how wheel speeds map to robot velocities. We assume that the robot rolls on hard, flat, horizontal ground without skidding, and it has a single rigid-body chassis (not articulated like a tractor-trailer) with a configuration  𝑇𝑠𝑏∈𝑆𝐸(2)  representing a chassis-fixed frame {b} relative to a fixed space frame {s} in the horizontal plane.\n",
    "\n",
    "Omnidirectional wheeled mobile robots typically employ either omniwheels or mecanum wheels, which are typical wheels augmented with rollers on their outer circumference. These rollers spin freely and they allow sideways sliding while the wheel drives forward or backward without slip in that direction.\n",
    "\n",
    "Unlike the front wheels in a car, those wheels are not steered, only driven forward or backward. The Neobotix MPO-500 robot is such an holonomic robot thanks to its four omnidirectional mechanum wheels.\n",
    "\n",
    "We represent  𝑇𝑠𝑏  by the three coordinates  𝑞=(𝜙,𝑥,𝑦) , and the velocity of the chassis as the time derivative of the coordinates,  𝑞˙=(𝜙˙,𝑥˙,𝑦˙) . We also define the chassis' planar twist  𝜈𝑏=(𝜔𝑏𝑧,𝑣𝑏𝑥,𝑣𝑏𝑦)  expressed in {b}\n",
    "\n",
    " The kinematic model of the mobile robot with four mecanum wheels is depicted below.\n",
    "\n",
    " The different movements our car can perform are:"
   ]
  },
  {
   "cell_type": "markdown",
   "metadata": {},
   "source": [
    "![Getting Starter](./Images/1_mecanumDrive1.png)"
   ]
  },
  {
   "cell_type": "markdown",
   "metadata": {},
   "source": [
    "The kinematics model definin the cartesian velocities in function ot wheel velocities is described:"
   ]
  },
  {
   "cell_type": "markdown",
   "metadata": {},
   "source": [
    "![Getting Starter](./Images/1_mecanumDrive2.png)"
   ]
  },
  {
   "cell_type": "markdown",
   "metadata": {},
   "source": [
    "where\n",
    "\n",
    "- Vi: Linear speed of the wheels.\n",
    "- ωdi: Angular speed of the wheels. (It is equal to Wdi in the calculation of the kinematics)\n",
    "- Vir: Tangential speed of the rollers.\n",
    "- ul: Linear velocity of the system on the X axis.\n",
    "- uf: Linear velocity of the system on the Y axis.\n",
    "- ω: Speed of rotation of the system on the Z axis.\n",
    "- a: Distance from the center of the robot to the axis of rotation of the wheel.\n",
    "- b: Distance from the center of the robot to the center of the width of the wheel.\n",
    "\n",
    "(see [Lynch & Park, 2017] for a complete derivation of this model)."
   ]
  },
  {
   "cell_type": "markdown",
   "metadata": {},
   "source": [
    "## 2. Speed control of nexus mecanum robot\n",
    "\n",
    "First of all we want to control the robot using our keyboard or a generic Joystick. \n",
    "The joy package is a ROS driver for a generic Linux joystick. The joy package contains joy_node, a node that interfaces a generic Linux joystick to ROS. This node publishes a \"Joy\" message, which contains the current state of each one of the joystick's buttons and axes.\n",
    "\n",
    "you have to install it from: http://wiki.ros.org/joy\n",
    "\n",
    "Tutorial: http://wiki.ros.org/joy/Tutorials/ConfiguringALinuxJoystick\n",
    "\n",
    "Install the required packages:"
   ]
  },
  {
   "cell_type": "markdown",
   "metadata": {},
   "source": []
  },
  {
   "cell_type": "code",
   "execution_count": null,
   "metadata": {},
   "outputs": [],
   "source": [
    "sudo apt-get install ros-melodic-teleop-twist-joy ros-melodic-joy"
   ]
  },
  {
   "cell_type": "markdown",
   "metadata": {},
   "source": [
    "To see the port name of joystick (usually js0), you type"
   ]
  },
  {
   "cell_type": "code",
   "execution_count": null,
   "metadata": {},
   "outputs": [],
   "source": [
    "cd /dev/input\n",
    "ls -l"
   ]
  },
  {
   "cell_type": "markdown",
   "metadata": {},
   "source": [
    "Then you type (usually you do not need to specify the device js0 which is he default)"
   ]
  },
  {
   "cell_type": "code",
   "execution_count": null,
   "metadata": {},
   "outputs": [],
   "source": [
    "rosrun joy joy_node dev:=/dev/input/js0\n",
    "roslaunch teleop_twist_joy teleop_node"
   ]
  },
  {
   "cell_type": "markdown",
   "metadata": {},
   "source": [
    "You have now the topic cmd_vel and you can see the output when you press the dead_man buttom (usually A) and the joystick"
   ]
  },
  {
   "cell_type": "code",
   "execution_count": null,
   "metadata": {},
   "outputs": [],
   "source": [
    "rostopic echo /cmd_vel"
   ]
  },
  {
   "cell_type": "markdown",
   "metadata": {},
   "source": [
    "Then you will be able to control the robot with the Keyboard typing:"
   ]
  },
  {
   "cell_type": "code",
   "execution_count": null,
   "metadata": {},
   "outputs": [],
   "source": [
    "rosrun key_teleop key_teleop.py /key_vel:=/cmd_vel"
   ]
  },
  {
   "cell_type": "markdown",
   "metadata": {},
   "source": [
    "We can test these control devices (keyboard and joypad) when you spawn the rubot in a world environment"
   ]
  },
  {
   "cell_type": "code",
   "execution_count": null,
   "metadata": {},
   "outputs": [],
   "source": [
    "roslaunch nexus_mecanum nexus_world.launch"
   ]
  },
  {
   "cell_type": "markdown",
   "metadata": {},
   "source": [
    "Then you can open new terminals to control the rubot with your keyboard or your joypad"
   ]
  },
  {
   "cell_type": "markdown",
   "metadata": {},
   "source": [
    "## 3. nexus mecanum navigation\n",
    "We have created a new package \"mecanum_control\" with dependencies rospy geometry_msgs nav_msgs sensor_msgs std_msgs"
   ]
  },
  {
   "cell_type": "code",
   "execution_count": null,
   "metadata": {},
   "outputs": [],
   "source": [
    "catkin_create_pkg nexus_control rospy geometry_msgs nav_msgs sensor_msgs std_msgs\n",
    "catkin_make"
   ]
  },
  {
   "cell_type": "markdown",
   "metadata": {},
   "source": [
    "Diferent navigation programs are created:\n",
    "- movement control:\n",
    "    - a python file \"rubot_control1.py\" to control the movement linear velocity in x-y direction and angular velocity in z directiron and with a maximum displacement of direction\n",
    "    - a launch file \"rubot_control1.launch\"\n",
    "    - The parameters vx,vy,w and d can be configured in the launch file\n",
    "- Lidar test: to verify the LIDAR readings and angles\n",
    "- Autonomous navigation: using the LIDAR to avoid obstacles"
   ]
  },
  {
   "cell_type": "markdown",
   "metadata": {},
   "source": [
    "movement control:"
   ]
  },
  {
   "cell_type": "code",
   "execution_count": null,
   "metadata": {},
   "outputs": [],
   "source": [
    "roslaunch nexus_control rubot_control1.launch"
   ]
  },
  {
   "cell_type": "markdown",
   "metadata": {},
   "source": [
    "Lidar test:"
   ]
  },
  {
   "cell_type": "code",
   "execution_count": null,
   "metadata": {},
   "outputs": [],
   "source": [
    "roslaunch nexus_control rubot_lidar_test.launch"
   ]
  },
  {
   "cell_type": "markdown",
   "metadata": {},
   "source": [
    "<img src=\"./Images/3_rubot_control1.png\">"
   ]
  },
  {
   "cell_type": "markdown",
   "metadata": {},
   "source": [
    "Autonomous navigationa and obstacle avoidance:"
   ]
  },
  {
   "cell_type": "code",
   "execution_count": null,
   "metadata": {},
   "outputs": [],
   "source": [
    "roslaunch rubotcoop_control rubot_nav1.launch"
   ]
  },
  {
   "cell_type": "markdown",
   "metadata": {},
   "source": [
    "<img src=\"./Images/3_rubot_nav.png\">"
   ]
  },
  {
   "cell_type": "code",
   "execution_count": null,
   "metadata": {},
   "outputs": [],
   "source": []
  }
 ],
 "metadata": {
  "kernelspec": {
   "display_name": "Python 3.6.9 64-bit",
   "name": "python369jvsc74a57bd031f2aee4e71d21fbe5cf8b01ff0e069b9275f58929596ceb00d14d90e3e16cd6"
  },
  "language_info": {
   "name": "python",
   "version": ""
  },
  "metadata": {
   "interpreter": {
    "hash": "31f2aee4e71d21fbe5cf8b01ff0e069b9275f58929596ceb00d14d90e3e16cd6"
   }
  },
  "orig_nbformat": 2
 },
 "nbformat": 4,
 "nbformat_minor": 2
}