{
 "metadata": {
  "language_info": {
   "codemirror_mode": {
    "name": "ipython",
    "version": 3
   },
   "file_extension": ".py",
   "mimetype": "text/x-python",
   "name": "python",
   "nbconvert_exporter": "python",
   "pygments_lexer": "ipython3",
   "version": 3
  },
  "orig_nbformat": 2
 },
 "nbformat": 4,
 "nbformat_minor": 2,
 "cells": [
  {
   "source": [
    "# Air Quality Sensors\n",
    "\n",
    "links...\n",
    "\n"
   ],
   "cell_type": "markdown",
   "metadata": {}
  },
  {
   "source": [
    "## Hardware\n",
    "\n",
    "Sensor\n",
    "RBPi3b\n",
    "\n",
    "Connection serial port sensor to pins RBPi"
   ],
   "cell_type": "markdown",
   "metadata": {}
  },
  {
   "source": [
    "## Software\n",
    "\n",
    "### Remote Desktop VNC\n",
    "This Desktop is available for Windows and MAC users.\n",
    "\n",
    "- To begin, open up the raspi-config tool by running the following command: sudo raspi-config\n",
    "- Within the configuration tool, use the arrow keys to scroll down to \"2. Display Options\" and \"D1. Resolution\"\n",
    "- Select the desired resolution. Usually DMT Mode 82 1920x1080 60Hz 16:9\n",
    "- Press OK\n",
    "- Within the configuration tool, use the arrow keys to scroll down to \"3. Interface Options\" and \"P3. VNC\"\n",
    "- Select VNC enable\n",
    "- Press OK and reboot\n",
    "\n",
    "Now in your PC install VNC Viewer: https://www.realvnc.com/es/connect/download/viewer/raspberrypi/\n",
    "\n",
    "more detailed information in: https://github.com/manelpuig/rubot_tutorial_ws/blob/master/Documentation/01b_Raspberrypi3%20Install%26Setup.ipynb"
   ],
   "cell_type": "markdown",
   "metadata": {}
  },
  {
   "source": [
    "### Sensor program\n",
    "\n",
    "Python program to read the serial port \n",
    "\n",
    "send to local data base\n",
    "\n",
    "send to Amazon data base:\n",
    "https://aws.amazon.com/?nc2=h_lg\n",
    "\n",
    "create an account\n"
   ],
   "cell_type": "markdown",
   "metadata": {}
  },
  {
   "source": [
    "### Amazon AWS\n",
    "\n",
    "send to Amazon data base:\n",
    "https://aws.amazon.com/?nc2=h_lg\n",
    "\n",
    "create an account"
   ],
   "cell_type": "markdown",
   "metadata": {}
  }
 ]
}